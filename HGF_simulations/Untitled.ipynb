{
 "cells": [
  {
   "cell_type": "code",
   "execution_count": 1,
   "id": "786eef67-dea3-453a-9630-9ef3af09eec9",
   "metadata": {},
   "outputs": [],
   "source": [
    "# first line accesses the current environment defined in project.toml"
   ]
  },
  {
   "cell_type": "code",
   "execution_count": 1,
   "id": "df5212d7-99d8-45f9-b06e-2c675af16d92",
   "metadata": {},
   "outputs": [
    {
     "name": "stderr",
     "output_type": "stream",
     "text": [
      "\u001b[32m\u001b[1m  Activating\u001b[22m\u001b[39m project at `~/projects/SEPAB/tasks/social_affective_prediction_task/HGF_simulations`\n"
     ]
    }
   ],
   "source": [
    "] activate ."
   ]
  },
  {
   "cell_type": "code",
   "execution_count": 1,
   "id": "1f32d771-741d-4aa0-bc19-10af9518c7fb",
   "metadata": {},
   "outputs": [
    {
     "data": {
      "text/plain": [
       "3-element Vector{Symbol}:\n",
       " :blue\n",
       " :green\n",
       " :purple"
      ]
     },
     "execution_count": 1,
     "metadata": {},
     "output_type": "execute_result"
    }
   ],
   "source": [
    "\t#How many avatars to use\n",
    "\tn_avatars = 3\n",
    "\t#Colors for the different avatars\n",
    "\tavatar_colors = [:blue, :green, :purple]"
   ]
  },
  {
   "cell_type": "code",
   "execution_count": 7,
   "id": "a6baf03c-48c1-4fe5-a68e-71b50006d8e0",
   "metadata": {},
   "outputs": [
    {
     "data": {
      "text/plain": [
       "plot_belief_trajectory (generic function with 1 method)"
      ]
     },
     "execution_count": 7,
     "metadata": {},
     "output_type": "execute_result"
    }
   ],
   "source": [
    "include(\"create_agent.jl\")\n",
    "include(\"create_input_sequence.jl\")\n",
    "include(\"helper_functions.jl\")"
   ]
  },
  {
   "cell_type": "code",
   "execution_count": 10,
   "id": "a325cb00-2186-4fde-ac5e-15ea2845ef22",
   "metadata": {},
   "outputs": [],
   "source": [
    "using ActionModels, HierarchicalGaussianFiltering #For creating HGFs\n",
    "using Distributions #For defining distributions\n",
    "using StatsPlots #For plotting\n",
    "using Random, Missings #For random number generation and missing values\n",
    "using DelimitedFiles #For reading and writing files\n",
    "using DataFrames\n",
    "#using CSV"
   ]
  },
  {
   "cell_type": "code",
   "execution_count": 11,
   "id": "792252fe-6054-42a9-9a1f-3c3689d9142b",
   "metadata": {},
   "outputs": [
    {
     "name": "stdout",
     "output_type": "stream",
     "text": [
      "phase = 2\n",
      "sum(phaseLength[1:phase - 1]) = 40\n"
     ]
    },
    {
     "ename": "LoadError",
     "evalue": "UndefVarError: `smileTrialIdx` not defined",
     "output_type": "error",
     "traceback": [
      "UndefVarError: `smileTrialIdx` not defined",
      "",
      "Stacktrace:",
      " [1] macro expansion",
      "   @ ./show.jl:1181 [inlined]",
      " [2] create_input_sequence(; avatarProbs::@NamedTuple{avatar1::Float64, avatar2::Float64, avatar3::Float64}, avatarTrials::Int64, phaseProb::Vector{Float64}, phaseLength::Vector{Int64})",
      "   @ Main ~/projects/SEPAB/tasks/social_affective_prediction_task/HGF_simulations/create_input_sequence.jl:47",
      " [3] top-level scope",
      "   @ In[11]:1"
     ]
    }
   ],
   "source": [
    "input_sequence = create_input_sequence(\n",
    "   avatarProbs  = (avatar1 = 0.9, avatar2 = 0.2, avatar3 = 0.6),\n",
    "   avatarTrials = 40,\n",
    "   phaseProb    = [0.80, 0.20, 0.80, 0.60, 0.20, 0.80],\n",
    "   phaseLength  = [40, 10, 10, 20, 20, 20]\n",
    "  )\n"
   ]
  },
  {
   "cell_type": "code",
   "execution_count": null,
   "id": "4902ad8c-3573-49f3-90a6-8e77c23df496",
   "metadata": {},
   "outputs": [],
   "source": [
    "\t#Agent parameter\n",
    "\tagent_parameters = Dict(\n",
    "\t        #Parameters for the probability nodes    \n",
    "\t        \"xprob_volatility\"                => -2,\n",
    "\t        \"xprob_initial_precision\"         => 100,\n",
    "\t        \"xprob_initial_mean\"              => 0,\n",
    "\t\n",
    "\t        #Parameters for the volatility node\n",
    "\t        (\"xvol\", \"volatility\")            => -8,\n",
    "\t        (\"xvol\", \"initial_precision\")     => 1,\n",
    "\t        (\"xvol\", \"initial_mean\")          => 1,\n",
    "\t\n",
    "\t        #Action noise parameter\n",
    "\t        \"action_noise\"                    => 1,\n",
    "\t\n",
    "\t        #Coupling strengths\n",
    "\t        \"xbinary_xprob_coupling_strength\" => 1,\n",
    "\t        \"xprob_xvol_coupling_strength\"    => 1,\n",
    "\t)"
   ]
  }
 ],
 "metadata": {
  "kernelspec": {
   "display_name": "Julia 1.10.4",
   "language": "julia",
   "name": "julia-1.10"
  },
  "language_info": {
   "file_extension": ".jl",
   "mimetype": "application/julia",
   "name": "julia",
   "version": "1.10.4"
  }
 },
 "nbformat": 4,
 "nbformat_minor": 5
}
